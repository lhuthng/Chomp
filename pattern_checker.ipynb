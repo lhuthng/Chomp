{
 "cells": [
  {
   "cell_type": "code",
   "execution_count": 4,
   "metadata": {},
   "outputs": [],
   "source": [
    "from math import floor\n",
    "from py_core import Board, Evidence, iterator\n",
    "e = Evidence()"
   ]
  },
  {
   "cell_type": "code",
   "execution_count": 6,
   "metadata": {},
   "outputs": [],
   "source": [
    "def check(pattern, start=0, end=20):\n",
    "    for i in range(start, end+1):\n",
    "        b = Board(eval(pattern.replace('n', str(i))))\n",
    "        if e.get(b): return False\n",
    "    return True\n",
    "\n",
    "def check_ideal(pattern, start, end=20):\n",
    "    for i in range(start, end+1):\n",
    "        translated = str(eval('('+pattern.replace('n', str(i))[1:-1]+')'))\n",
    "        b = Board.get_board('<'+translated[1:-1]+'>')\n",
    "        if e.get(b): \n",
    "            print(\"Error on\", b)\n",
    "            return False\n",
    "    return True\n",
    "\n",
    "def check_ideal_2(pattern, start=1, end=20, req=None, init=None):\n",
    "    if not req:\n",
    "        req = lambda n, m: m < n\n",
    "    if not init:\n",
    "        init = lambda _: 0\n",
    "    for i in range(start, end+1):\n",
    "        j = init(i)\n",
    "        print(j, i)\n",
    "        while req(i, j):\n",
    "            translated = str(eval('('+pattern.replace('n', str(i)).replace('m', str(j))[1:-1]+')'))\n",
    "            print('Testing ' + translated)\n",
    "            b = Board.get_board('<'+translated[1:-1]+'>')\n",
    "            if e.get(b): \n",
    "                return False\n",
    "            j += 1\n",
    "    return True"
   ]
  },
  {
   "cell_type": "code",
   "execution_count": 9,
   "metadata": {},
   "outputs": [
    {
     "name": "stdout",
     "output_type": "stream",
     "text": [
      "<(3*n,0),(2,1),(0,2*n)> True\n",
      "<(3*n+1,0),(2,1),(0,2*n+1)> True\n",
      "Error on (5, 5, 3, 3)\n",
      "<(3*n+2,0),(3,2),(0,2*n+2)> False\n"
     ]
    }
   ],
   "source": [
    "last = 7\n",
    "i_last = 2\n",
    "\n",
    "patterns = [\n",
    "    \"(4+n,2+n,2)\",\n",
    "    \"(11+n,7+n,5)\",\n",
    "    \"(15+n,10+n,7)\",\n",
    "    \"(18+n,12+n,9)\",\n",
    "    \"(26+n,19+n,11)\",\n",
    "    \"(30+n,21+n,14)\",\n",
    "    \"(35+n,24+n,17)\",\n",
    "\n",
    "    \"(10+n,7+n,3,2)\",\n",
    "\n",
    "    \"(10+2*n,8+2*n,4,2)\",\n",
    "    \"(11+2*n,7+2*n,4,2)\",\n",
    "\n",
    "    \"(18+2*n,12+2*n,8,2)\",\n",
    "    \"(19+2*n,13+2*n,8,2)\",\n",
    "\n",
    "    \"(22+2*n,15+2*n,10,2)\",\n",
    "    \"(21+2*n,14+2*n,10,2)\",\n",
    "\n",
    "    \"(24+2*n,16+2*n,12,2)\",\n",
    "    \"(25+2*n,17+2*n,12,2)\",\n",
    "\n",
    "    \"(11+2*n,8+2*n,4,3)\",\n",
    "    \"(14+2*n,9+2*n,4,3)\",\n",
    "\n",
    "    \"(6+n,3+n,1,1,1)\",\n",
    "    \"(11+n,7+n,4,1,1)\",\n",
    "    \"(14+n,9+n,6,1,1)\",\n",
    "    \"(20+n,14+n,8,1,1)\",\n",
    "    \"(27+n,19+n,11,1,1)\",\n",
    "\n",
    "    \"(26+2*n,19+2*n,12,1,1)\",\n",
    "    \"(29+2*n,20+2*n,12,1,1)\",\n",
    "]\n",
    "\n",
    "ideal_patterns = [\n",
    "    \"<(3*n,0),(2,1),(0,2*n)>\",\n",
    "    \"<(3*n+1,0),(2,1),(0,2*n+1)>\",\n",
    "    \"<(3*n+2,0),(3,2),(0,2*n+2)>\",\n",
    "]\n",
    "\n",
    "more_ideal_patterns = [\n",
    "    (\"<(3*n-m,0),(2,1),(1,2*n-2*m),(0,2*n)>\", lambda n,m: m < n),\\\n",
    "    (\"<(2*n-m,0),(2,1),(1,1+2*m),(0,2*n)>\", lambda n,m: m < (n+1)//2),\n",
    "    (\"<(3*(n-m)-1,0),(2,1),(1,1+2*m),(0,2*n)>\", lambda n,m: m < n, lambda x: (x+1)//2),\n",
    "]\n",
    "\n",
    "# for pattern in patterns[:last]:\n",
    "#     print(pattern, check(pattern))\n",
    "\n",
    "for pattern in ideal_patterns:\n",
    "    print(pattern, check_ideal(pattern, start=2))\n",
    "\n",
    "# for pattern in more_ideal_patterns[2:]:\n",
    "#     req = None\n",
    "#     if isinstance(pattern, tuple):\n",
    "#         pattern, *req = pattern\n",
    "#     print(pattern, check_ideal_2(pattern, 1, 20, *req))\n",
    "    "
   ]
  },
  {
   "cell_type": "code",
   "execution_count": 1,
   "metadata": {},
   "outputs": [],
   "source": [
    "from py_core import *\n",
    "e = Evidence(True, False, zigzag_iterator)"
   ]
  },
  {
   "cell_type": "code",
   "execution_count": 2,
   "metadata": {},
   "outputs": [
    {
     "name": "stdout",
     "output_type": "stream",
     "text": [
      "(5, 4, 4) [(0, 2)]\n",
      "(6, 4, 4) [(3, 1), (2, 2)]\n",
      "([(3, 1), (2, 2)], 5, 4) 3\n"
     ]
    },
    {
     "ename": "TypeError",
     "evalue": "'<' not supported between instances of 'list' and 'int'",
     "output_type": "error",
     "traceback": [
      "\u001b[0;31m---------------------------------------------------------------------------\u001b[0m",
      "\u001b[0;31mTypeError\u001b[0m                                 Traceback (most recent call last)",
      "Cell \u001b[0;32mIn[2], line 4\u001b[0m\n\u001b[1;32m      2\u001b[0m \u001b[38;5;28;01mfor\u001b[39;00m p \u001b[38;5;129;01min\u001b[39;00m \u001b[38;5;28mrange\u001b[39m(\u001b[38;5;241m4\u001b[39m, \u001b[38;5;241m12\u001b[39m):\n\u001b[1;32m      3\u001b[0m     \u001b[38;5;28;01mfor\u001b[39;00m q \u001b[38;5;129;01min\u001b[39;00m \u001b[38;5;28mrange\u001b[39m(\u001b[38;5;241m4\u001b[39m, p):\n\u001b[0;32m----> 4\u001b[0m         b \u001b[38;5;241m=\u001b[39m \u001b[43mBoard\u001b[49m\u001b[43m(\u001b[49m\u001b[43m[\u001b[49m\u001b[43mp\u001b[49m\u001b[43m,\u001b[49m\u001b[43mq\u001b[49m\u001b[43m,\u001b[49m\u001b[38;5;241;43m4\u001b[39;49m\u001b[43m]\u001b[49m\u001b[43m)\u001b[49m\n\u001b[1;32m      5\u001b[0m         p \u001b[38;5;241m=\u001b[39m e\u001b[38;5;241m.\u001b[39mget(b)\n\u001b[1;32m      6\u001b[0m         \u001b[38;5;28;01mif\u001b[39;00m p:\n",
      "File \u001b[0;32m~/Chomp/py_core/board.py:26\u001b[0m, in \u001b[0;36mBoard.__init__\u001b[0;34m(self, data, auto)\u001b[0m\n\u001b[1;32m     25\u001b[0m \u001b[38;5;28;01mdef\u001b[39;00m \u001b[38;5;21m__init__\u001b[39m(\u001b[38;5;28mself\u001b[39m, data, auto\u001b[38;5;241m=\u001b[39m\u001b[38;5;28;01mTrue\u001b[39;00m):\n\u001b[0;32m---> 26\u001b[0m     \u001b[38;5;28mself\u001b[39m\u001b[38;5;241m.\u001b[39mdata \u001b[38;5;241m=\u001b[39m \u001b[43msim\u001b[49m\u001b[43m(\u001b[49m\u001b[38;5;28;43mtuple\u001b[39;49m\u001b[43m(\u001b[49m\u001b[43mdata\u001b[49m\u001b[43m)\u001b[49m\u001b[43m,\u001b[49m\u001b[43m \u001b[49m\u001b[38;5;28;43mself\u001b[39;49m\u001b[43m,\u001b[49m\u001b[43m \u001b[49m\u001b[43mauto\u001b[49m\u001b[43m)\u001b[49m\n\u001b[1;32m     27\u001b[0m     \u001b[38;5;28;01mif\u001b[39;00m auto:\n\u001b[1;32m     28\u001b[0m         other \u001b[38;5;241m=\u001b[39m \u001b[38;5;28mself\u001b[39m\u001b[38;5;241m.\u001b[39mclone(\u001b[38;5;28;01mFalse\u001b[39;00m)\u001b[38;5;241m.\u001b[39m_flip()\n",
      "File \u001b[0;32m~/Chomp/py_core/board.py:14\u001b[0m, in \u001b[0;36msim\u001b[0;34m(board, output, auto)\u001b[0m\n\u001b[1;32m     12\u001b[0m \u001b[38;5;28;01mif\u001b[39;00m auto:\n\u001b[1;32m     13\u001b[0m     \u001b[38;5;28;01mif\u001b[39;00m \u001b[38;5;28misinstance\u001b[39m(board[\u001b[38;5;241m0\u001b[39m], \u001b[38;5;28mlist\u001b[39m): \u001b[38;5;28mprint\u001b[39m(board, length)\n\u001b[0;32m---> 14\u001b[0m     \u001b[38;5;28;01mif\u001b[39;00m length \u001b[38;5;241m>\u001b[39m \u001b[38;5;241m0\u001b[39m \u001b[38;5;129;01mand\u001b[39;00m \u001b[43mboard\u001b[49m\u001b[43m[\u001b[49m\u001b[38;5;241;43m0\u001b[39;49m\u001b[43m]\u001b[49m\u001b[43m \u001b[49m\u001b[38;5;241;43m<\u001b[39;49m\u001b[43m \u001b[49m\u001b[43mlength\u001b[49m:\n\u001b[1;32m     15\u001b[0m         output\u001b[38;5;241m.\u001b[39mflipped \u001b[38;5;241m=\u001b[39m \u001b[38;5;28;01mTrue\u001b[39;00m\n\u001b[1;32m     16\u001b[0m         board \u001b[38;5;241m=\u001b[39m flip(board)\n",
      "\u001b[0;31mTypeError\u001b[0m: '<' not supported between instances of 'list' and 'int'"
     ]
    }
   ],
   "source": [
    "# f = lambda x: [x // 2 for i in range(2,x+1)]\n",
    "for p in range(4, 12):\n",
    "    for q in range(4, p):\n",
    "        b = Board([p,q,4])\n",
    "        pr = e.get(b)\n",
    "        if p:\n",
    "            print(b, pr)"
   ]
  }
 ],
 "metadata": {
  "kernelspec": {
   "display_name": "my-venv",
   "language": "python",
   "name": "python3"
  },
  "language_info": {
   "codemirror_mode": {
    "name": "ipython",
    "version": 3
   },
   "file_extension": ".py",
   "mimetype": "text/x-python",
   "name": "python",
   "nbconvert_exporter": "python",
   "pygments_lexer": "ipython3",
   "version": "3.11.2"
  }
 },
 "nbformat": 4,
 "nbformat_minor": 2
}
