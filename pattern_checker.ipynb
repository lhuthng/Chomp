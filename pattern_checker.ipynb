{
 "cells": [
  {
   "cell_type": "code",
   "execution_count": 1,
   "metadata": {},
   "outputs": [],
   "source": [
    "from py_core import Board, Evidence, iterator\n",
    "e = Evidence()"
   ]
  },
  {
   "cell_type": "code",
   "execution_count": 4,
   "metadata": {},
   "outputs": [],
   "source": [
    "def check(pattern):\n",
    "    for i in range(20):\n",
    "        b = Board(eval(pattern.replace('n', str(i))))\n",
    "        if e.get(b): return False\n",
    "    return True\n",
    "\n",
    "def check_ideal(pattern, start):\n",
    "    for i in range(start, 20):\n",
    "        b = Board.get_board('<'+str(eval('('+pattern.replace('n', str(i))[1:-1]+')'))[1:-1]+'>')\n",
    "        if e.get(b): return False\n",
    "    return True"
   ]
  },
  {
   "cell_type": "code",
   "execution_count": 3,
   "metadata": {},
   "outputs": [],
   "source": [
    "patterns = [\n",
    "    \"(10+n,7+n,3,2)\",\n",
    "\n",
    "    \"(10+2*n,8+2*n,4,2)\",\n",
    "    \"(11+2*n,7+2*n,4,2)\",\n",
    "\n",
    "    \"(18+2*n,12+2*n,8,2)\",\n",
    "    \"(19+2*n,13+2*n,8,2)\",\n",
    "\n",
    "    \"(22+2*n,15+2*n,10,2)\",\n",
    "    \"(21+2*n,14+2*n,10,2)\",\n",
    "\n",
    "    \"(24+2*n,16+2*n,12,2)\",\n",
    "    \"(25+2*n,17+2*n,12,2)\",\n",
    "\n",
    "    \"(11+2*n,8+2*n,4,3)\",\n",
    "    \"(14+2*n,9+2*n,4,3)\",\n",
    "\n",
    "    \"(6+n,3+n,1,1,1)\",\n",
    "    \"(11+n,7+n,4,1,1)\",\n",
    "    \"(14+n,9+n,6,1,1)\",\n",
    "    \"(20+n,14+n,8,1,1)\",\n",
    "    \"(27+n,19+n,11,1,1)\",\n",
    "\n",
    "    \"(26+2*n,19+2*n,12,1,1)\",\n",
    "    \"(29+2*n,20+2*n,12,1,1)\",\n",
    "]\n",
    "\n",
    "ideal_patterns = [\n",
    "    \"<(3*n,0),(2,1),(0,2*n)>\",\n",
    "    \"<(3*n+1,0),(2,1),(0,2*n+1)>\",\n",
    "]"
   ]
  },
  {
   "cell_type": "code",
   "execution_count": null,
   "metadata": {},
   "outputs": [],
   "source": [
    "for pattern in patterns:\n",
    "    print(pattern, check(pattern))"
   ]
  },
  {
   "cell_type": "code",
   "execution_count": 6,
   "metadata": {},
   "outputs": [
    {
     "name": "stdout",
     "output_type": "stream",
     "text": [
      "<(3*n,0),(2,1),(0,2*n)> True\n",
      "<(3*n+1,0),(2,1),(0,2*n+1)> True\n"
     ]
    }
   ],
   "source": [
    "for pattern in ideal_patterns:\n",
    "    print(pattern, check_ideal(pattern, 1))"
   ]
  }
 ],
 "metadata": {
  "kernelspec": {
   "display_name": "my-venv",
   "language": "python",
   "name": "python3"
  },
  "language_info": {
   "codemirror_mode": {
    "name": "ipython",
    "version": 3
   },
   "file_extension": ".py",
   "mimetype": "text/x-python",
   "name": "python",
   "nbconvert_exporter": "python",
   "pygments_lexer": "ipython3",
   "version": "3.11.2"
  }
 },
 "nbformat": 4,
 "nbformat_minor": 2
}
