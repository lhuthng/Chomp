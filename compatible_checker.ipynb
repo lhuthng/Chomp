{
 "cells": [
  {
   "cell_type": "code",
   "execution_count": 1,
   "metadata": {},
   "outputs": [],
   "source": [
    "from py_core import Board, iterator, Evidence\n",
    "from cpp_core import load_cpp_scripts, cpp_iterator\n",
    "cpp = load_cpp_scripts()"
   ]
  },
  {
   "cell_type": "code",
   "execution_count": 2,
   "metadata": {},
   "outputs": [],
   "source": [
    "x = cpp.Board.get_board(\"<(5,0),(2,2),(0,4)>\")\n",
    "y = Board.get_board(\"<(5,0),(2,2),(0,4)>\")"
   ]
  },
  {
   "cell_type": "code",
   "execution_count": 3,
   "metadata": {},
   "outputs": [],
   "source": [
    "it = cpp.Iterator(x)"
   ]
  },
  {
   "cell_type": "code",
   "execution_count": 4,
   "metadata": {},
   "outputs": [],
   "source": [
    "def random_board():\n",
    "    from random import randint\n",
    "    size = randint(1, 5)\n",
    "    lim = randint(5, 10)\n",
    "    board = [0] * size\n",
    "    board[-1] = lim\n",
    "    print(size, lim, board)\n",
    "    for i in range(size):\n",
    "        board[i] = randint(0, min(board[i-1], lim))\n",
    "    print(board)"
   ]
  },
  {
   "cell_type": "code",
   "execution_count": 5,
   "metadata": {},
   "outputs": [],
   "source": [
    "def compare(T):\n",
    "    pBoard = Board(T)\n",
    "    cBoard = cpp.Board.get_board(pBoard.as_ideal())\n",
    "    A = { a for a in cpp_iterator(cpp.Iterator(cBoard))}\n",
    "    B = { b for b in iterator(pBoard)}\n",
    "    print(A == B)\n",
    "    for a in iterator(pBoard):\n",
    "        print(a)\n",
    "        print(pBoard.chomp(*a).as_ideal())\n",
    "        print(cBoard.chomp(a))\n",
    "        \n"
   ]
  },
  {
   "cell_type": "code",
   "execution_count": null,
   "metadata": {},
   "outputs": [],
   "source": [
    "compare([5,3,3,1])"
   ]
  },
  {
   "cell_type": "code",
   "execution_count": 10,
   "metadata": {},
   "outputs": [],
   "source": [
    "cEvid = cpp.Evidence()\n",
    "pEvid = Evidence(True, True)"
   ]
  },
  {
   "cell_type": "code",
   "execution_count": 9,
   "metadata": {},
   "outputs": [
    {
     "data": {
      "text/plain": [
       "(10, 2)"
      ]
     },
     "execution_count": 9,
     "metadata": {},
     "output_type": "execute_result"
    },
    {
     "data": {
      "text/plain": [
       "(12, 1)"
      ]
     },
     "execution_count": 12,
     "metadata": {},
     "output_type": "execute_result"
    }
   ],
   "source": [
    "tuple(cEvid.get(cpp.Board.get_board(\"<(15,0),(3,3),(0,13)>\")).move)"
   ]
  },
  {
   "cell_type": "code",
   "execution_count": 8,
   "metadata": {},
   "outputs": [
    {
     "data": {
      "text/plain": [
       "(12, 1)"
      ]
     },
     "execution_count": 8,
     "metadata": {},
     "output_type": "execute_result"
    }
   ],
   "source": [
    "pEvid.get(Board.get_board(\"<(15,0),(3,3),(0,13)>\"))"
   ]
  }
 ],
 "metadata": {
  "kernelspec": {
   "display_name": "my-venv",
   "language": "python",
   "name": "python3"
  },
  "language_info": {
   "codemirror_mode": {
    "name": "ipython",
    "version": 3
   },
   "file_extension": ".py",
   "mimetype": "text/x-python",
   "name": "python",
   "nbconvert_exporter": "python",
   "pygments_lexer": "ipython3",
   "version": "3.11.2"
  }
 },
 "nbformat": 4,
 "nbformat_minor": 2
}
