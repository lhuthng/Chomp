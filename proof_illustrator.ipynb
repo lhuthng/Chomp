{
 "cells": [
  {
   "cell_type": "code",
   "execution_count": 2,
   "metadata": {},
   "outputs": [],
   "source": [
    "from py_core import Board, Evidence, zigzag_iterator, iterator, reverse_iterator\n",
    "from random import choice, sample\n",
    "import matplotlib.pyplot as plt\n",
    "import matplotlib.patches as patches\n",
    "\n",
    "fn = iterator\n",
    "e = Evidence(counter_move=True, trace_back_fn=fn)"
   ]
  },
  {
   "cell_type": "code",
   "execution_count": 15,
   "metadata": {},
   "outputs": [
    {
     "data": {
      "image/png": "[encoded data removed]",
      "text/plain": [
       "<Figure size 1000x1000 with 1 Axes>"
      ]
     },
     "metadata": {},
     "output_type": "display_data"
    }
   ],
   "source": [
    "def draw_board(board):\n",
    "    def draw(func, data):\n",
    "        x = [i for i in range(len(data) + 1)]\n",
    "        y = (data[0],) + data\n",
    "        func(x, 0, y, colors='k')\n",
    "    \n",
    "    draw(plt.hlines, board.data)\n",
    "    draw(plt.vlines, board.clone(False)._flip().data)\n",
    "\n",
    "def draw_arrow(board):\n",
    "    result = e.get(board)\n",
    "    pairs = set()\n",
    "    if not result:\n",
    "        for move in fn(board):\n",
    "            if move in pairs: continue\n",
    "            new = board.chomp(*move, False)\n",
    "            res = e.get(new)\n",
    "            for option in res:\n",
    "                pairs.add(tuple(sorted((move, option))))\n",
    "        l = board.data[0] // 3\n",
    "        for u, v in sorted(pairs):\n",
    "            color = 'black'\n",
    "            # if v[0] != 1: continue\n",
    "            # if u[0] == 0: color='red'\n",
    "            # elif v[0] > board[0] * 2 // 3: color='blue'\n",
    "            # elif not( u[1] > board[0] // 3): color='green'\n",
    "            u = u[0] + 0.5, u[1] + 0.5\n",
    "            v = v[0] + 0.5, v[1] + 0.5\n",
    "            ax.annotate(\"\", xy=u, xytext=v,arrowprops=dict(arrowstyle=\"<->\", color=color))\n",
    "    else:\n",
    "        for move in fn(board):\n",
    "            new = board.chomp(*move, False)\n",
    "            res = e.get(new)\n",
    "            if res is False: continue\n",
    "            for option in res:\n",
    "                pairs.add((move, option))\n",
    "        for u, v in pairs:\n",
    "            color = 'black'\n",
    "            u = u[0] + 0.5, u[1] + 0.5\n",
    "            v = v[0] + 0.5, v[1] + 0.5\n",
    "            ax.annotate(\"\", xy=u, xytext=v,arrowprops=dict(arrowstyle=\"<-\", color=color))\n",
    "\n",
    "def draw_proof(board):\n",
    "    draw_board(board)\n",
    "    draw_arrow(board)\n",
    "\n",
    "fig, ax = plt.subplots(figsize=(10, 10))\n",
    "\n",
    "# x = 7\n",
    "# b = Board.get_board(f\"<({x*3},0),(2,1),(0,{x*2})>\",False)\n",
    "# b = b.chomp(20, 0, False).chomp(1, 12, False)\n",
    "# print(b.as_ideal())\n",
    "# draw_proof(b)\n",
    "x = 1\n",
    "# b = [7,7,4]\n",
    "b = [10,6,4]\n",
    "# b = [9,5,4] \n",
    "#b = [8,4,4]\n",
    "draw_proof(Board(b))\n",
    "# draw_proof(Board([7,4,3]))\n",
    "# draw_proof(Board([5,5,3]))\n",
    "# draw_proof(Board.get_board(f\"<(8,0),(2,1),(1,9),(0,14)>\", False))\n",
    "# draw_proof(Board.get_board(f\"<(11,0),(2,1),(1,9),(0,16)>\",False))\n",
    "# draw_proof(Board.get_board(f\"<(17,0),(2,1),(1,10),(0,20)>\",False))\n",
    "# draw_proof(*Board.get_board(f\"<({x*3-1},0),(2,1),(1,{2*x-2}),(0,{x*2})>\").data)\n",
    "\n",
    "plt.gca().set_aspect('equal', adjustable='box')\n",
    "plt.axis('off')\n",
    "plt.show()"
   ]
  },
  {
   "cell_type": "code",
   "execution_count": null,
   "metadata": {},
   "outputs": [],
   "source": [
    "e.get(Board([5,4]))"
   ]
  }
 ],
 "metadata": {
  "kernelspec": {
   "display_name": "my-venv",
   "language": "python",
   "name": "python3"
  },
  "language_info": {
   "codemirror_mode": {
    "name": "ipython",
    "version": 3
   },
   "file_extension": ".py",
   "mimetype": "text/x-python",
   "name": "python",
   "nbconvert_exporter": "python",
   "pygments_lexer": "ipython3",
   "version": "3.11.2"
  }
 },
 "nbformat": 4,
 "nbformat_minor": 2
}
