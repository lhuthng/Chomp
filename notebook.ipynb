{
 "cells": [
  {
   "cell_type": "markdown",
   "metadata": {},
   "source": [
    "Debian:\n",
    "    apt install python3.11-venv\n",
    "        to install a virtual environment\n",
    "    python3.11 -m venv my-venv\n",
    "        to create a python virtual environment\n",
    "    source my-venv/bin/activate\n",
    "        to run on the virtual environment\n",
    "    pip install --upgrade pip\n",
    "        to upgrade the pip\n",
    "    pip insatll cppyy\n",
    "    g++ -std=c++17 -shared -o my_library.so -Icore/include core/src/board.cpp -fPIC"
   ]
  },
  {
   "cell_type": "code",
   "execution_count": 1,
   "metadata": {},
   "outputs": [
    {
     "name": "stdout",
     "output_type": "stream",
     "text": [
      "Output: \n",
      "Error: \n"
     ]
    }
   ],
   "source": [
    "import subprocess, cppyy\n",
    "\n",
    "include_dir = 'cpp_core/include'\n",
    "\n",
    "command = f'g++ -std=c++17 -shared -o cpp_core/shared.so -I{include_dir} cpp_core/src/board.cpp cpp_core/src/iterator.cpp -fPIC'\n",
    "process = subprocess.run(command, capture_output=True, text=True, shell=True)\n",
    "\n",
    "print(f'Output: {process.stdout}\\nError: {process.stderr}')\n",
    "\n",
    "cppyy.load_library(\"cpp_core/shared.so\")\n",
    "\n",
    "def include(header):\n",
    "    cppyy.include(f'{include_dir}/{header}.h')\n"
   ]
  },
  {
   "cell_type": "code",
   "execution_count": 2,
   "metadata": {},
   "outputs": [],
   "source": [
    "include('board')\n",
    "include('iterator')\n",
    "\n",
    "import cppyy.gbl as cpp\n",
    "import py_core as py"
   ]
  },
  {
   "cell_type": "code",
   "execution_count": 3,
   "metadata": {},
   "outputs": [],
   "source": [
    "board = cpp.Board.get_board(\"<(3,0),(0,3)>\")\n"
   ]
  },
  {
   "cell_type": "code",
   "execution_count": 4,
   "metadata": {},
   "outputs": [
    {
     "name": "stdout",
     "output_type": "stream",
     "text": [
      "(0, 0)\n",
      "(1, 0)\n",
      "(2, 0)\n",
      "(0, 1)\n",
      "(1, 1)\n",
      "(2, 1)\n",
      "(0, 2)\n",
      "(1, 2)\n",
      "(2, 2)\n"
     ]
    }
   ],
   "source": [
    "it = cpp.BoardIterator(board)\n",
    "while it.hasNext():\n",
    "    print(tuple(it.get()))\n",
    "    it.advance()\n"
   ]
  },
  {
   "cell_type": "code",
   "execution_count": 8,
   "metadata": {},
   "outputs": [],
   "source": [
    "board = cpp.Board.get_board(\"<(3,0),(0,3)>\")"
   ]
  },
  {
   "cell_type": "code",
   "execution_count": 9,
   "metadata": {},
   "outputs": [
    {
     "name": "stdout",
     "output_type": "stream",
     "text": [
      "<(3,0),(2,1),(0,3)>\n"
     ]
    }
   ],
   "source": [
    "print(board.consume((2, 1)))"
   ]
  },
  {
   "cell_type": "code",
   "execution_count": 6,
   "metadata": {},
   "outputs": [
    {
     "ename": "AttributeError",
     "evalue": "module 'py_core' has no attribute 'Board'",
     "output_type": "error",
     "traceback": [
      "\u001b[0;31m---------------------------------------------------------------------------\u001b[0m",
      "\u001b[0;31mAttributeError\u001b[0m                            Traceback (most recent call last)",
      "Cell \u001b[0;32mIn[6], line 1\u001b[0m\n\u001b[0;32m----> 1\u001b[0m board \u001b[38;5;241m=\u001b[39m \u001b[43mpy\u001b[49m\u001b[38;5;241;43m.\u001b[39;49m\u001b[43mBoard\u001b[49m\u001b[38;5;241m.\u001b[39mBoard([\u001b[38;5;241m3\u001b[39m, \u001b[38;5;241m3\u001b[39m, \u001b[38;5;241m3\u001b[39m])\n\u001b[1;32m      2\u001b[0m \u001b[38;5;28;01mfor\u001b[39;00m move \u001b[38;5;129;01min\u001b[39;00m py\u001b[38;5;241m.\u001b[39miterator\u001b[38;5;241m.\u001b[39miterator(board):\n\u001b[1;32m      3\u001b[0m     \u001b[38;5;28mprint\u001b[39m(move)\n",
      "\u001b[0;31mAttributeError\u001b[0m: module 'py_core' has no attribute 'Board'"
     ]
    }
   ],
   "source": [
    "board = py.Board.Board([3, 3, 3])\n",
    "for move in py.iterator.iterator(board):\n",
    "    print(move)"
   ]
  },
  {
   "cell_type": "code",
   "execution_count": 10,
   "metadata": {},
   "outputs": [
    {
     "data": {
      "text/plain": [
       "(3, 2, 2)"
      ]
     },
     "execution_count": 10,
     "metadata": {},
     "output_type": "execute_result"
    }
   ],
   "source": [
    "pyy.convert(\"<(3,0),(2,1),(0,3)>\")"
   ]
  }
 ],
 "metadata": {
  "kernelspec": {
   "display_name": "my-venv",
   "language": "python",
   "name": "python3"
  },
  "language_info": {
   "codemirror_mode": {
    "name": "ipython",
    "version": 3
   },
   "file_extension": ".py",
   "mimetype": "text/x-python",
   "name": "python",
   "nbconvert_exporter": "python",
   "pygments_lexer": "ipython3",
   "version": "3.11.2"
  }
 },
 "nbformat": 4,
 "nbformat_minor": 2
}
