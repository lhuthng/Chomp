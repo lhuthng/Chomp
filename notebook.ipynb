{
 "cells": [
  {
   "cell_type": "code",
   "execution_count": null,
   "metadata": {},
   "outputs": [],
   "source": [
    "import subprocess, cppyy\n",
    "\n",
    "include_dir = 'cpp_core/include'\n",
    "\n",
    "command = f'g++ -std=c++17 -shared -o cpp_core/shared.so -I{include_dir} cpp_core/src/board.cpp cpp_core/src/iterator.cpp -fPIC'\n",
    "process = subprocess.run(command, capture_output=True, text=True, shell=True)\n",
    "\n",
    "print(f'Output: {process.stdout}\\nError: {process.stderr}')\n",
    "\n",
    "cppyy.load_library(\"cpp_core/shared.so\")\n",
    "\n",
    "def include(header):\n",
    "    cppyy.include(f'{include_dir}/{header}.h')\n"
   ]
  },
  {
   "cell_type": "code",
   "execution_count": 2,
   "metadata": {},
   "outputs": [],
   "source": [
    "include('board')\n",
    "include('iterator')\n",
    "\n",
    "import cppyy.gbl as cpp\n",
    "import py_core as py"
   ]
  },
  {
   "cell_type": "code",
   "execution_count": 3,
   "metadata": {},
   "outputs": [],
   "source": [
    "board = cpp.Board.get_board(\"<(3,0),(0,3)>\")\n"
   ]
  },
  {
   "cell_type": "code",
   "execution_count": null,
   "metadata": {},
   "outputs": [],
   "source": [
    "it = cpp.BoardIterator(board)\n",
    "while it.hasNext():\n",
    "    print(tuple(it.get()))\n",
    "    it.advance()\n"
   ]
  },
  {
   "cell_type": "code",
   "execution_count": 8,
   "metadata": {},
   "outputs": [],
   "source": [
    "board = cpp.Board.get_board(\"<(3,0),(0,3)>\")"
   ]
  },
  {
   "cell_type": "code",
   "execution_count": null,
   "metadata": {},
   "outputs": [],
   "source": [
    "print(board.consume((2, 1)))"
   ]
  },
  {
   "cell_type": "code",
   "execution_count": null,
   "metadata": {},
   "outputs": [],
   "source": [
    "board = py.Board.Board([3, 3, 3])\n",
    "for move in py.iterator.iterator(board):\n",
    "    print(move)"
   ]
  },
  {
   "cell_type": "code",
   "execution_count": null,
   "metadata": {},
   "outputs": [],
   "source": [
    "pyy.convert(\"<(3,0),(2,1),(0,3)>\")"
   ]
  },
  {
   "cell_type": "code",
   "execution_count": 63,
   "metadata": {},
   "outputs": [],
   "source": [
    "from py_core import Evidence, Board, iterator\n",
    "e = Evidence()"
   ]
  },
  {
   "cell_type": "code",
   "execution_count": 79,
   "metadata": {},
   "outputs": [
    {
     "name": "stdout",
     "output_type": "stream",
     "text": [
      "[(14, 11, 9), (15, 8, 8), (15, 11, 5)]\n"
     ]
    }
   ],
   "source": [
    "print(e.get(Board([15,11,9])))"
   ]
  },
  {
   "cell_type": "code",
   "execution_count": 67,
   "metadata": {},
   "outputs": [
    {
     "name": "stdout",
     "output_type": "stream",
     "text": [
      "(0, 0) () ()\n",
      "(1, 0) (3,) [(1,)]\n",
      "(2, 0) (3, 3) [(3, 2)]\n",
      "(3, 0) (3, 3, 3) [(3, 1, 1)]\n",
      "(4, 0) (4, 4, 4) [(4, 2, 2)]\n",
      "(5, 0) (5, 5, 5) [(5, 5, 3)]\n",
      "(6, 0) (6, 6, 5) [(6, 3, 3)]\n",
      "(7, 0) (7, 7, 5) [(7, 7, 4)]\n",
      "(8, 0) (8, 7, 5) [(8, 4, 4), (8, 7)]\n",
      "(9, 0) (9, 7, 5) [(9, 6, 5), (9, 7, 2)]\n",
      "(10, 0) (10, 7, 5) [(10, 5, 5)]\n",
      "(0, 1) (11,) [(1,)]\n",
      "(1, 1) (11, 1, 1) [(3, 1, 1)]\n",
      "(2, 1) (11, 2, 2) [(4, 2, 2)]\n",
      "(3, 1) (11, 3, 3) [(6, 3, 3)]\n",
      "(4, 1) (11, 4, 4) [(8, 4, 4)]\n",
      "(5, 1) (11, 5, 5) [(10, 5, 5)]\n",
      "(6, 1) (11, 6, 5) [(9, 6, 5)]\n",
      "(0, 2) (11, 7) [(8, 7)]\n",
      "(1, 2) (11, 7, 1) [(3, 2)]\n",
      "(2, 2) (11, 7, 2) [(9, 7, 2)]\n",
      "(3, 2) (11, 7, 3) [(5, 5, 3)]\n",
      "(4, 2) (11, 7, 4) [(7, 7, 4)]\n"
     ]
    }
   ],
   "source": [
    "for a in iterator(Board([11,7,5])):\n",
    "    c = Board([11,7,5]).consume(*a)\n",
    "    print(a, c, e.get(c))"
   ]
  },
  {
   "cell_type": "code",
   "execution_count": 78,
   "metadata": {},
   "outputs": [
    {
     "name": "stdout",
     "output_type": "stream",
     "text": [
      "(20, 11, 11)\n",
      "(19, 12, 11)\n",
      "(22, 13, 11)\n",
      "(17, 14, 11)\n",
      "(23, 15, 11)\n",
      "(24, 16, 11)\n",
      "(25, 17, 11)\n",
      "(21, 18, 11)\n",
      "(26, 19, 11)\n",
      "(27, 20, 11)\n",
      "(28, 21, 11)\n",
      "(29, 22, 11)\n"
     ]
    }
   ],
   "source": [
    "s = set()\n",
    "r = 11\n",
    "l = list()\n",
    "for p in range(r, 30):\n",
    "    for q in range(r, p+1):\n",
    "        v = e.get(Board([p,q,r]))\n",
    "        if not v: l.append([r,q,p])\n",
    "print(*[(p,q,r) for r,q,p in sorted(l)], sep='\\n')"
   ]
  },
  {
   "cell_type": "code",
   "execution_count": 94,
   "metadata": {},
   "outputs": [
    {
     "name": "stdout",
     "output_type": "stream",
     "text": [
      "(45, 31, 22) False\n",
      "(46, 32, 22) False\n",
      "(47, 33, 22) False\n",
      "(48, 34, 22) False\n",
      "(49, 35, 22) False\n",
      "(50, 36, 22) False\n",
      "(51, 37, 22) False\n",
      "(52, 38, 22) False\n",
      "(53, 39, 22) False\n",
      "(54, 40, 22) False\n",
      "(55, 41, 22) False\n",
      "(56, 42, 22) False\n",
      "(57, 43, 22) False\n",
      "(58, 44, 22) False\n",
      "(59, 45, 22) False\n",
      "(60, 46, 22) False\n",
      "(61, 47, 22) False\n",
      "(62, 48, 22) False\n",
      "(63, 49, 22) False\n",
      "(64, 50, 22) False\n"
     ]
    }
   ],
   "source": [
    "def check(pattern):\n",
    "    for i in range(20):\n",
    "        b = Board(eval(pattern.replace('n', str(i))))\n",
    "        print(b, e.get(b))\n",
    "\n",
    "check(\"(45 + n, 31 + n, 22)\")"
   ]
  }
 ],
 "metadata": {
  "kernelspec": {
   "display_name": "my-venv",
   "language": "python",
   "name": "python3"
  },
  "language_info": {
   "codemirror_mode": {
    "name": "ipython",
    "version": 3
   },
   "file_extension": ".py",
   "mimetype": "text/x-python",
   "name": "python",
   "nbconvert_exporter": "python",
   "pygments_lexer": "ipython3",
   "version": "3.11.2"
  }
 },
 "nbformat": 4,
 "nbformat_minor": 2
}
