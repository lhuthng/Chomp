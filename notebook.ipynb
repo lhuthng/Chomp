{
 "cells": [
  {
   "cell_type": "code",
   "execution_count": null,
   "metadata": {},
   "outputs": [],
   "source": [
    "import subprocess, cppyy\n",
    "\n",
    "include_dir = 'cpp_core/include'\n",
    "\n",
    "command = f'g++ -std=c++17 -shared -o cpp_core/shared.so -I{include_dir} cpp_core/src/board.cpp cpp_core/src/iterator.cpp -fPIC'\n",
    "process = subprocess.run(command, capture_output=True, text=True, shell=True)\n",
    "\n",
    "print(f'Output: {process.stdout}\\nError: {process.stderr}')\n",
    "\n",
    "cppyy.load_library(\"cpp_core/shared.so\")\n",
    "\n",
    "def include(header):\n",
    "    cppyy.include(f'{include_dir}/{header}.h')\n"
   ]
  },
  {
   "cell_type": "code",
   "execution_count": 2,
   "metadata": {},
   "outputs": [],
   "source": [
    "include('board')\n",
    "include('iterator')\n",
    "\n",
    "import cppyy.gbl as cpp\n",
    "import py_core as py"
   ]
  },
  {
   "cell_type": "code",
   "execution_count": 3,
   "metadata": {},
   "outputs": [],
   "source": [
    "board = cpp.Board.get_board(\"<(3,0),(0,3)>\")\n"
   ]
  },
  {
   "cell_type": "code",
   "execution_count": null,
   "metadata": {},
   "outputs": [],
   "source": [
    "it = cpp.BoardIterator(board)\n",
    "while it.hasNext():\n",
    "    print(tuple(it.get()))\n",
    "    it.advance()\n"
   ]
  },
  {
   "cell_type": "code",
   "execution_count": 8,
   "metadata": {},
   "outputs": [],
   "source": [
    "board = cpp.Board.get_board(\"<(3,0),(0,3)>\")"
   ]
  },
  {
   "cell_type": "code",
   "execution_count": null,
   "metadata": {},
   "outputs": [],
   "source": [
    "print(board.consume((2, 1)))"
   ]
  },
  {
   "cell_type": "code",
   "execution_count": null,
   "metadata": {},
   "outputs": [],
   "source": [
    "board = py.Board.Board([3, 3, 3])\n",
    "for move in py.iterator.iterator(board):\n",
    "    print(move)"
   ]
  },
  {
   "cell_type": "code",
   "execution_count": null,
   "metadata": {},
   "outputs": [],
   "source": [
    "pyy.convert(\"<(3,0),(2,1),(0,3)>\")"
   ]
  },
  {
   "cell_type": "code",
   "execution_count": 5,
   "metadata": {},
   "outputs": [],
   "source": [
    "from py_core import Evidence, Board, iterator\n",
    "e = Evidence()"
   ]
  },
  {
   "cell_type": "code",
   "execution_count": null,
   "metadata": {},
   "outputs": [],
   "source": [
    "print(e.get(Board([15,11,9])))"
   ]
  },
  {
   "cell_type": "code",
   "execution_count": null,
   "metadata": {},
   "outputs": [],
   "source": [
    "for a in iterator(Board([11,7,5])):\n",
    "    c = Board([11,7,5]).consume(*a)\n",
    "    print(a, c, e.get(c))"
   ]
  },
  {
   "cell_type": "code",
   "execution_count": null,
   "metadata": {},
   "outputs": [],
   "source": [
    "s = set()\n",
    "r = 2\n",
    "l = list()\n",
    "for p in range(r, 30):\n",
    "    for q in range(r, p+1):\n",
    "        v = e.get(Board([p,q,r]))\n",
    "        if not v: l.append([r,q,p])\n",
    "print(*[(p,q,r) for r,q,p in sorted(l)], sep='\\n')"
   ]
  },
  {
   "cell_type": "code",
   "execution_count": null,
   "metadata": {},
   "outputs": [],
   "source": [
    "evidence = Evidence()\n",
    "max_q = 50\n",
    "for q in range(1, max_q):\n",
    "    for p in range(q, q * 2 + 1):\n",
    "        result = evidence.get(Board([p, q, q]))\n",
    "        if not result: print([p, q, q])"
   ]
  },
  {
   "cell_type": "code",
   "execution_count": null,
   "metadata": {},
   "outputs": [],
   "source": [
    "def check(pattern):\n",
    "    for i in range(20):\n",
    "        b = Board(eval(pattern.replace('n', str(i))))\n",
    "        print(b, e.get(b))\n",
    "\n",
    "check(\"(45 + n, 31 + n, 22)\")"
   ]
  },
  {
   "cell_type": "code",
   "execution_count": null,
   "metadata": {},
   "outputs": [],
   "source": [
    "def test(b):\n",
    "    for m in iterator(b):\n",
    "        bb = b.consume(*m)\n",
    "        print(m, bb, e.get(bb))\n",
    "test(Board([4,2,2]))\n",
    "test(Board([5,3,2]))"
   ]
  },
  {
   "cell_type": "code",
   "execution_count": 74,
   "metadata": {},
   "outputs": [],
   "source": [
    "def construct(threshold, board, callback, n=0):\n",
    "    if (n == len(board)):\n",
    "        callback(board)\n",
    "        return\n",
    "    for a in range(1, threshold):\n",
    "        if n > 0 and a > board[n-1]: break\n",
    "        board[n] = a\n",
    "        construct(threshold, board, callback, n+1)\n",
    "\n",
    "res = list()\n",
    "def check(board):\n",
    "    r = e.get(Board(board + [1,1]))\n",
    "    if not r: \n",
    "        res.append(board + [1,1])\n",
    "construct(30, [0,0,0,0], check)"
   ]
  },
  {
   "cell_type": "code",
   "execution_count": null,
   "metadata": {},
   "outputs": [],
   "source": [
    "print(*sorted(filter(lambda x: x[-1]==1, res), key=lambda x: x[::-1]), sep='\\n')"
   ]
  }
 ],
 "metadata": {
  "kernelspec": {
   "display_name": "my-venv",
   "language": "python",
   "name": "python3"
  },
  "language_info": {
   "codemirror_mode": {
    "name": "ipython",
    "version": 3
   },
   "file_extension": ".py",
   "mimetype": "text/x-python",
   "name": "python",
   "nbconvert_exporter": "python",
   "pygments_lexer": "ipython3",
   "version": "3.11.2"
  }
 },
 "nbformat": 4,
 "nbformat_minor": 2
}
