{
 "cells": [
  {
   "cell_type": "code",
   "execution_count": 1,
   "metadata": {},
   "outputs": [],
   "source": [
    "from py_core import Board, Evidence, zigzag_iterator\n",
    "e = Evidence(True, True, zigzag_iterator)"
   ]
  },
  {
   "cell_type": "code",
   "execution_count": null,
   "metadata": {},
   "outputs": [
    {
     "name": "stdout",
     "output_type": "stream",
     "text": [
      "<(2,0),(0,1)> (1, 0)\n",
      "<(4,0),(0,2)> (3, 1)\n",
      "<(6,0),(0,3)> (3, 1)\n",
      "<(8,0),(0,4)> (3, 1)\n",
      "<(10,0),(0,5)> (3, 1)\n",
      "<(12,0),(0,6)> (3, 1)\n",
      "<(14,0),(0,7)> (3, 5)\n",
      "<(16,0),(0,8)> (6, 3)\n"
     ]
    }
   ],
   "source": [
    "for n in range(1, 10):\n",
    "    b = Board.get_board(f\"<({n*2},0),(0,{n})>\")\n",
    "    print(b.as_ideal(), e.get(b))"
   ]
  },
  {
   "cell_type": "code",
   "execution_count": 1,
   "metadata": {},
   "outputs": [],
   "source": [
    "from cpp_core import *\n",
    "cpp = load_cpp_scripts()"
   ]
  },
  {
   "cell_type": "code",
   "execution_count": 2,
   "metadata": {},
   "outputs": [],
   "source": [
    "e = cpp.Evidence(cpp.IteratorCode.ZIGZAC)\n"
   ]
  },
  {
   "cell_type": "code",
   "execution_count": 15,
   "metadata": {},
   "outputs": [
    {
     "name": "stdout",
     "output_type": "stream",
     "text": [
      "<(3,0),(2,1),(0,2)> <cppyy.gbl.Proof object at 0x(nil)>\n",
      "<(6,0),(2,1),(0,4)> <cppyy.gbl.Proof object at 0x(nil)>\n",
      "<(6,0),(2,1),(1,2),(0,4)> <cppyy.gbl.Proof object at 0x577ae60>\n",
      "<(9,0),(2,1),(0,6)> <cppyy.gbl.Proof object at 0x(nil)>\n",
      "<(9,0),(2,1),(1,4),(0,6)> <cppyy.gbl.Proof object at 0x5a77ea0>\n",
      "<(9,0),(2,1),(1,2),(0,6)> <cppyy.gbl.Proof object at 0x5a36f40>\n",
      "<(12,0),(2,1),(0,8)> <cppyy.gbl.Proof object at 0x(nil)>\n",
      "<(12,0),(2,1),(1,6),(0,8)> <cppyy.gbl.Proof object at 0x5a734f0>\n",
      "<(12,0),(2,1),(1,4),(0,8)> <cppyy.gbl.Proof object at 0x5a074c0>\n",
      "<(12,0),(2,1),(1,2),(0,8)> <cppyy.gbl.Proof object at 0x5a6ea40>\n",
      "<(15,0),(2,1),(0,10)> <cppyy.gbl.Proof object at 0x(nil)>\n",
      "<(15,0),(2,1),(1,8),(0,10)> <cppyy.gbl.Proof object at 0xceb24c0>\n",
      "<(15,0),(2,1),(1,6),(0,10)> <cppyy.gbl.Proof object at 0xceaea00>\n",
      "<(15,0),(2,1),(1,4),(0,10)> <cppyy.gbl.Proof object at 0xcea8c80>\n",
      "<(15,0),(2,1),(1,2),(0,10)> <cppyy.gbl.Proof object at 0xce8cb70>\n",
      "<(18,0),(2,1),(0,12)> <cppyy.gbl.Proof object at 0x(nil)>\n",
      "<(18,0),(2,1),(1,10),(0,12)> <cppyy.gbl.Proof object at 0x134f28cb0>\n",
      "<(18,0),(2,1),(1,8),(0,12)> <cppyy.gbl.Proof object at 0x134eb75e0>\n",
      "<(18,0),(2,1),(1,6),(0,12)> <cppyy.gbl.Proof object at 0x5ad91e0>\n",
      "<(18,0),(2,1),(1,4),(0,12)> <cppyy.gbl.Proof object at 0x134ecf3c0>\n",
      "<(18,0),(2,1),(1,2),(0,12)> <cppyy.gbl.Proof object at 0x134eec7b0>\n",
      "<(21,0),(2,1),(0,14)> <cppyy.gbl.Proof object at 0x(nil)>\n",
      "<(21,0),(2,1),(1,12),(0,14)> <cppyy.gbl.Proof object at 0x135090f50>\n",
      "<(21,0),(2,1),(1,10),(0,14)> <cppyy.gbl.Proof object at 0x13503e160>\n",
      "<(21,0),(2,1),(1,8),(0,14)> <cppyy.gbl.Proof object at 0x134ff41e0>\n",
      "<(21,0),(2,1),(1,6),(0,14)> <cppyy.gbl.Proof object at 0x134fd4a30>\n",
      "<(21,0),(2,1),(1,4),(0,14)> <cppyy.gbl.Proof object at 0x134fc1830>\n",
      "<(21,0),(2,1),(1,2),(0,14)> <cppyy.gbl.Proof object at 0x134f86f60>\n",
      "<(24,0),(2,1),(0,16)> <cppyy.gbl.Proof object at 0x(nil)>\n",
      "<(24,0),(2,1),(1,14),(0,16)> <cppyy.gbl.Proof object at 0x1352e0f20>\n",
      "<(24,0),(2,1),(1,12),(0,16)> <cppyy.gbl.Proof object at 0x135265c50>\n",
      "<(24,0),(2,1),(1,10),(0,16)> <cppyy.gbl.Proof object at 0x1351f3430>\n",
      "<(24,0),(2,1),(1,8),(0,16)> <cppyy.gbl.Proof object at 0x1351c7000>\n",
      "<(24,0),(2,1),(1,6),(0,16)> <cppyy.gbl.Proof object at 0x13518d8e0>\n",
      "<(24,0),(2,1),(1,4),(0,16)> <cppyy.gbl.Proof object at 0x1351588c0>\n",
      "<(24,0),(2,1),(1,2),(0,16)> <cppyy.gbl.Proof object at 0x135134410>\n",
      "<(27,0),(2,1),(0,18)> <cppyy.gbl.Proof object at 0x(nil)>\n",
      "<(27,0),(2,1),(1,16),(0,18)> <cppyy.gbl.Proof object at 0x135712bc0>\n",
      "<(27,0),(2,1),(1,14),(0,18)> <cppyy.gbl.Proof object at 0x13565f9c0>\n",
      "<(27,0),(2,1),(1,12),(0,18)> <cppyy.gbl.Proof object at 0x1355b7d90>\n",
      "<(27,0),(2,1),(1,10),(0,18)> <cppyy.gbl.Proof object at 0x1355800d0>\n",
      "<(27,0),(2,1),(1,8),(0,18)> <cppyy.gbl.Proof object at 0x1355252d0>\n",
      "<(27,0),(2,1),(1,6),(0,18)> <cppyy.gbl.Proof object at 0x1354b8af0>\n",
      "<(27,0),(2,1),(1,4),(0,18)> <cppyy.gbl.Proof object at 0x135464e30>\n",
      "<(27,0),(2,1),(1,2),(0,18)> <cppyy.gbl.Proof object at 0x1353f9ed0>\n"
     ]
    }
   ],
   "source": [
    "for n in range(1, 10):\n",
    "    for m in range(n):\n",
    "        b = cpp.Board.get_board(f\"<({3*n-m},0),(2,1),(1,{2*n-2*m}),(0,{n*2})>\")\n",
    "        print(b, e.get(b))"
   ]
  },
  {
   "cell_type": "code",
   "execution_count": 13,
   "metadata": {},
   "outputs": [],
   "source": [
    "b = cpp.Board.get_board(\"<(6,0),(2,1),(0,4)>\")"
   ]
  },
  {
   "cell_type": "code",
   "execution_count": null,
   "metadata": {},
   "outputs": [],
   "source": []
  }
 ],
 "metadata": {
  "kernelspec": {
   "display_name": "my-venv",
   "language": "python",
   "name": "python3"
  },
  "language_info": {
   "codemirror_mode": {
    "name": "ipython",
    "version": 3
   },
   "file_extension": ".py",
   "mimetype": "text/x-python",
   "name": "python",
   "nbconvert_exporter": "python",
   "pygments_lexer": "ipython3",
   "version": "3.11.2"
  }
 },
 "nbformat": 4,
 "nbformat_minor": 2
}
