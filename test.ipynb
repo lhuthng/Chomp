{
 "cells": [
  {
   "cell_type": "code",
   "execution_count": 21,
   "metadata": {},
   "outputs": [],
   "source": [
    "from py_core import Board, Evidence, zigzag_iterator\n",
    "e = Evidence(True, False, zigzag_iterator)"
   ]
  },
  {
   "cell_type": "code",
   "execution_count": 34,
   "metadata": {},
   "outputs": [
    {
     "name": "stdout",
     "output_type": "stream",
     "text": [
      "<(5,0),(0,3)> (3, 2)\n",
      "<(7,0),(0,5)> (2, 1)\n",
      "<(9,0),(0,7)> (2, 3)\n",
      "<(11,0),(0,9)> (3, 4)\n"
     ]
    },
    {
     "ename": "KeyboardInterrupt",
     "evalue": "",
     "output_type": "error",
     "traceback": [
      "\u001b[0;31m---------------------------------------------------------------------------\u001b[0m",
      "\u001b[0;31mKeyboardInterrupt\u001b[0m                         Traceback (most recent call last)",
      "Cell \u001b[0;32mIn[34], line 3\u001b[0m\n\u001b[1;32m      1\u001b[0m \u001b[38;5;28;01mfor\u001b[39;00m i \u001b[38;5;129;01min\u001b[39;00m \u001b[38;5;28mrange\u001b[39m(\u001b[38;5;241m1\u001b[39m, \u001b[38;5;241m30\u001b[39m):\n\u001b[1;32m      2\u001b[0m     b \u001b[38;5;241m=\u001b[39m Board\u001b[38;5;241m.\u001b[39mget_board(\u001b[38;5;124mf\u001b[39m\u001b[38;5;124m\"\u001b[39m\u001b[38;5;124m<(\u001b[39m\u001b[38;5;132;01m{\u001b[39;00m\u001b[38;5;241m2\u001b[39m\u001b[38;5;241m*\u001b[39mi\u001b[38;5;241m+\u001b[39m\u001b[38;5;241m3\u001b[39m\u001b[38;5;132;01m}\u001b[39;00m\u001b[38;5;124m,0),(0,\u001b[39m\u001b[38;5;132;01m{\u001b[39;00m\u001b[38;5;241m2\u001b[39m\u001b[38;5;241m*\u001b[39mi\u001b[38;5;241m+\u001b[39m\u001b[38;5;241m1\u001b[39m\u001b[38;5;132;01m}\u001b[39;00m\u001b[38;5;124m)>\u001b[39m\u001b[38;5;124m\"\u001b[39m)\n\u001b[0;32m----> 3\u001b[0m     \u001b[38;5;28mprint\u001b[39m(b\u001b[38;5;241m.\u001b[39mas_ideal(), \u001b[43me\u001b[49m\u001b[38;5;241;43m.\u001b[39;49m\u001b[43mget\u001b[49m\u001b[43m(\u001b[49m\u001b[43mb\u001b[49m\u001b[43m)\u001b[49m)\n",
      "File \u001b[0;32m~/Chomp/py_core/evidence.py:18\u001b[0m, in \u001b[0;36mEvidence.get\u001b[0;34m(self, board)\u001b[0m\n\u001b[1;32m     16\u001b[0m \u001b[38;5;28;01mfor\u001b[39;00m move \u001b[38;5;129;01min\u001b[39;00m \u001b[38;5;28mself\u001b[39m\u001b[38;5;241m.\u001b[39mtrace_back_fn(board):\n\u001b[1;32m     17\u001b[0m     child \u001b[38;5;241m=\u001b[39m board\u001b[38;5;241m.\u001b[39mchomp(\u001b[38;5;241m*\u001b[39mmove)\n\u001b[0;32m---> 18\u001b[0m     \u001b[38;5;28;01mif\u001b[39;00m \u001b[38;5;28;43mself\u001b[39;49m\u001b[38;5;241;43m.\u001b[39;49m\u001b[43mget\u001b[49m\u001b[43m(\u001b[49m\u001b[43mchild\u001b[49m\u001b[43m)\u001b[49m \u001b[38;5;241m==\u001b[39m \u001b[38;5;28;01mFalse\u001b[39;00m:\n\u001b[1;32m     19\u001b[0m         found \u001b[38;5;241m=\u001b[39m \u001b[38;5;28;01mTrue\u001b[39;00m\n\u001b[1;32m     20\u001b[0m         \u001b[38;5;28;01mif\u001b[39;00m board\u001b[38;5;241m.\u001b[39mflipped: move \u001b[38;5;241m=\u001b[39m move[::\u001b[38;5;241m-\u001b[39m\u001b[38;5;241m1\u001b[39m]\n",
      "File \u001b[0;32m~/Chomp/py_core/evidence.py:18\u001b[0m, in \u001b[0;36mEvidence.get\u001b[0;34m(self, board)\u001b[0m\n\u001b[1;32m     16\u001b[0m \u001b[38;5;28;01mfor\u001b[39;00m move \u001b[38;5;129;01min\u001b[39;00m \u001b[38;5;28mself\u001b[39m\u001b[38;5;241m.\u001b[39mtrace_back_fn(board):\n\u001b[1;32m     17\u001b[0m     child \u001b[38;5;241m=\u001b[39m board\u001b[38;5;241m.\u001b[39mchomp(\u001b[38;5;241m*\u001b[39mmove)\n\u001b[0;32m---> 18\u001b[0m     \u001b[38;5;28;01mif\u001b[39;00m \u001b[38;5;28;43mself\u001b[39;49m\u001b[38;5;241;43m.\u001b[39;49m\u001b[43mget\u001b[49m\u001b[43m(\u001b[49m\u001b[43mchild\u001b[49m\u001b[43m)\u001b[49m \u001b[38;5;241m==\u001b[39m \u001b[38;5;28;01mFalse\u001b[39;00m:\n\u001b[1;32m     19\u001b[0m         found \u001b[38;5;241m=\u001b[39m \u001b[38;5;28;01mTrue\u001b[39;00m\n\u001b[1;32m     20\u001b[0m         \u001b[38;5;28;01mif\u001b[39;00m board\u001b[38;5;241m.\u001b[39mflipped: move \u001b[38;5;241m=\u001b[39m move[::\u001b[38;5;241m-\u001b[39m\u001b[38;5;241m1\u001b[39m]\n",
      "    \u001b[0;31m[... skipping similar frames: Evidence.get at line 18 (5 times)]\u001b[0m\n",
      "File \u001b[0;32m~/Chomp/py_core/evidence.py:18\u001b[0m, in \u001b[0;36mEvidence.get\u001b[0;34m(self, board)\u001b[0m\n\u001b[1;32m     16\u001b[0m \u001b[38;5;28;01mfor\u001b[39;00m move \u001b[38;5;129;01min\u001b[39;00m \u001b[38;5;28mself\u001b[39m\u001b[38;5;241m.\u001b[39mtrace_back_fn(board):\n\u001b[1;32m     17\u001b[0m     child \u001b[38;5;241m=\u001b[39m board\u001b[38;5;241m.\u001b[39mchomp(\u001b[38;5;241m*\u001b[39mmove)\n\u001b[0;32m---> 18\u001b[0m     \u001b[38;5;28;01mif\u001b[39;00m \u001b[38;5;28;43mself\u001b[39;49m\u001b[38;5;241;43m.\u001b[39;49m\u001b[43mget\u001b[49m\u001b[43m(\u001b[49m\u001b[43mchild\u001b[49m\u001b[43m)\u001b[49m \u001b[38;5;241m==\u001b[39m \u001b[38;5;28;01mFalse\u001b[39;00m:\n\u001b[1;32m     19\u001b[0m         found \u001b[38;5;241m=\u001b[39m \u001b[38;5;28;01mTrue\u001b[39;00m\n\u001b[1;32m     20\u001b[0m         \u001b[38;5;28;01mif\u001b[39;00m board\u001b[38;5;241m.\u001b[39mflipped: move \u001b[38;5;241m=\u001b[39m move[::\u001b[38;5;241m-\u001b[39m\u001b[38;5;241m1\u001b[39m]\n",
      "File \u001b[0;32m~/Chomp/py_core/evidence.py:17\u001b[0m, in \u001b[0;36mEvidence.get\u001b[0;34m(self, board)\u001b[0m\n\u001b[1;32m     15\u001b[0m found \u001b[38;5;241m=\u001b[39m \u001b[38;5;28;01mFalse\u001b[39;00m\n\u001b[1;32m     16\u001b[0m \u001b[38;5;28;01mfor\u001b[39;00m move \u001b[38;5;129;01min\u001b[39;00m \u001b[38;5;28mself\u001b[39m\u001b[38;5;241m.\u001b[39mtrace_back_fn(board):\n\u001b[0;32m---> 17\u001b[0m     child \u001b[38;5;241m=\u001b[39m \u001b[43mboard\u001b[49m\u001b[38;5;241;43m.\u001b[39;49m\u001b[43mchomp\u001b[49m\u001b[43m(\u001b[49m\u001b[38;5;241;43m*\u001b[39;49m\u001b[43mmove\u001b[49m\u001b[43m)\u001b[49m\n\u001b[1;32m     18\u001b[0m     \u001b[38;5;28;01mif\u001b[39;00m \u001b[38;5;28mself\u001b[39m\u001b[38;5;241m.\u001b[39mget(child) \u001b[38;5;241m==\u001b[39m \u001b[38;5;28;01mFalse\u001b[39;00m:\n\u001b[1;32m     19\u001b[0m         found \u001b[38;5;241m=\u001b[39m \u001b[38;5;28;01mTrue\u001b[39;00m\n",
      "File \u001b[0;32m~/Chomp/py_core/board.py:45\u001b[0m, in \u001b[0;36mBoard.chomp\u001b[0;34m(self, x, y)\u001b[0m\n\u001b[1;32m     43\u001b[0m     \u001b[38;5;28;01mif\u001b[39;00m x \u001b[38;5;241m<\u001b[39m data[row] \u001b[38;5;129;01mand\u001b[39;00m y \u001b[38;5;241m<\u001b[39m\u001b[38;5;241m=\u001b[39m row:\n\u001b[1;32m     44\u001b[0m         data[row] \u001b[38;5;241m=\u001b[39m x            \n\u001b[0;32m---> 45\u001b[0m \u001b[38;5;28;01mreturn\u001b[39;00m \u001b[43mBoard\u001b[49m\u001b[43m(\u001b[49m\u001b[43mdata\u001b[49m\u001b[43m)\u001b[49m\n",
      "File \u001b[0;32m~/Chomp/py_core/board.py:26\u001b[0m, in \u001b[0;36mBoard.__init__\u001b[0;34m(self, data, auto)\u001b[0m\n\u001b[1;32m     24\u001b[0m \u001b[38;5;28mself\u001b[39m\u001b[38;5;241m.\u001b[39mdata \u001b[38;5;241m=\u001b[39m sim(\u001b[38;5;28mtuple\u001b[39m(data), \u001b[38;5;28mself\u001b[39m)\n\u001b[1;32m     25\u001b[0m \u001b[38;5;28;01mif\u001b[39;00m auto:\n\u001b[0;32m---> 26\u001b[0m     other \u001b[38;5;241m=\u001b[39m \u001b[38;5;28;43mself\u001b[39;49m\u001b[38;5;241;43m.\u001b[39;49m\u001b[43mclone\u001b[49m\u001b[43m(\u001b[49m\u001b[38;5;28;43;01mFalse\u001b[39;49;00m\u001b[43m)\u001b[49m\u001b[38;5;241;43m.\u001b[39;49m\u001b[43m_flip\u001b[49m\u001b[43m(\u001b[49m\u001b[43m)\u001b[49m\n\u001b[1;32m     27\u001b[0m     loth \u001b[38;5;241m=\u001b[39m \u001b[38;5;28mlen\u001b[39m(other\u001b[38;5;241m.\u001b[39mdata)\n\u001b[1;32m     28\u001b[0m     lsel \u001b[38;5;241m=\u001b[39m \u001b[38;5;28mlen\u001b[39m(\u001b[38;5;28mself\u001b[39m\u001b[38;5;241m.\u001b[39mdata)\n",
      "File \u001b[0;32m~/Chomp/py_core/board.py:37\u001b[0m, in \u001b[0;36mBoard._flip\u001b[0;34m(self)\u001b[0m\n\u001b[1;32m     35\u001b[0m \u001b[38;5;28;01mdef\u001b[39;00m \u001b[38;5;21m_flip\u001b[39m(\u001b[38;5;28mself\u001b[39m):\n\u001b[1;32m     36\u001b[0m     \u001b[38;5;28mself\u001b[39m\u001b[38;5;241m.\u001b[39mflipped \u001b[38;5;241m=\u001b[39m \u001b[38;5;129;01mnot\u001b[39;00m \u001b[38;5;28mself\u001b[39m\u001b[38;5;241m.\u001b[39mflipped\n\u001b[0;32m---> 37\u001b[0m     \u001b[38;5;28mself\u001b[39m\u001b[38;5;241m.\u001b[39mdata \u001b[38;5;241m=\u001b[39m \u001b[38;5;28mtuple\u001b[39m(\u001b[43mflip\u001b[49m\u001b[43m(\u001b[49m\u001b[38;5;28;43mself\u001b[39;49m\u001b[38;5;241;43m.\u001b[39;49m\u001b[43mdata\u001b[49m\u001b[43m)\u001b[49m)\n\u001b[1;32m     38\u001b[0m     \u001b[38;5;28;01mreturn\u001b[39;00m \u001b[38;5;28mself\u001b[39m\n",
      "File \u001b[0;32m~/Chomp/py_core/board.py:7\u001b[0m, in \u001b[0;36mflip\u001b[0;34m(board)\u001b[0m\n\u001b[1;32m      6\u001b[0m \u001b[38;5;28;01mdef\u001b[39;00m \u001b[38;5;21mflip\u001b[39m(board: \u001b[38;5;28mtuple\u001b[39m)\u001b[38;5;241m-\u001b[39m\u001b[38;5;241m>\u001b[39m\u001b[38;5;28mtuple\u001b[39m:\n\u001b[0;32m----> 7\u001b[0m     \u001b[38;5;28;01mreturn\u001b[39;00m \u001b[38;5;28mtuple\u001b[39m(\u001b[38;5;28mmap\u001b[39m(\u001b[38;5;28msum\u001b[39m, \u001b[38;5;28;43mzip\u001b[39;49m\u001b[43m(\u001b[49m\u001b[38;5;241;43m*\u001b[39;49m\u001b[38;5;28;43mmap\u001b[39;49m\u001b[43m(\u001b[49m\u001b[38;5;28;43;01mlambda\u001b[39;49;00m\u001b[43m \u001b[49m\u001b[43ma\u001b[49m\u001b[43m:\u001b[49m\u001b[43m \u001b[49m\u001b[43m[\u001b[49m\u001b[38;5;241;43m1\u001b[39;49m\u001b[43m]\u001b[49m\u001b[43m \u001b[49m\u001b[38;5;241;43m*\u001b[39;49m\u001b[43m \u001b[49m\u001b[43ma\u001b[49m\u001b[43m \u001b[49m\u001b[38;5;241;43m+\u001b[39;49m\u001b[43m \u001b[49m\u001b[43m[\u001b[49m\u001b[38;5;241;43m0\u001b[39;49m\u001b[43m]\u001b[49m\u001b[43m \u001b[49m\u001b[38;5;241;43m*\u001b[39;49m\u001b[43m \u001b[49m\u001b[43m(\u001b[49m\u001b[43mboard\u001b[49m\u001b[43m[\u001b[49m\u001b[38;5;241;43m0\u001b[39;49m\u001b[43m]\u001b[49m\u001b[43m \u001b[49m\u001b[38;5;241;43m-\u001b[39;49m\u001b[43m \u001b[49m\u001b[43ma\u001b[49m\u001b[43m)\u001b[49m\u001b[43m,\u001b[49m\u001b[43m \u001b[49m\u001b[43mboard\u001b[49m\u001b[43m)\u001b[49m\u001b[43m)\u001b[49m))\n",
      "\u001b[0;31mKeyboardInterrupt\u001b[0m: "
     ]
    }
   ],
   "source": [
    "for i in range(1, 30):\n",
    "    b = Board.get_board(f\"<({2*i+3},0),(0,{2*i+1})>\")\n",
    "    print(b.as_ideal(), e.get(b))"
   ]
  },
  {
   "cell_type": "code",
   "execution_count": 1,
   "metadata": {},
   "outputs": [],
   "source": [
    "from cpp_core import *\n",
    "cpp = load_cpp_scripts()"
   ]
  },
  {
   "cell_type": "code",
   "execution_count": 2,
   "metadata": {},
   "outputs": [],
   "source": [
    "e = cpp.Evidence(cpp.IteratorCode.ZIGZAC)\n"
   ]
  },
  {
   "cell_type": "code",
   "execution_count": null,
   "metadata": {},
   "outputs": [],
   "source": [
    "for i in range(1, 4):\n",
    "    b = cpp.Board.get_board(f\"<({5*i},0),(0,{3*i})>\")\n",
    "    print(b, tuple(e.get(b).move))"
   ]
  },
  {
   "cell_type": "code",
   "execution_count": 13,
   "metadata": {},
   "outputs": [],
   "source": [
    "b = cpp.Board.get_board(\"<(6,0),(2,1),(0,4)>\")"
   ]
  },
  {
   "cell_type": "code",
   "execution_count": 4,
   "metadata": {},
   "outputs": [],
   "source": [
    "x = \"<(3*n+1,0),(2,1),(0,2*n+1)>\""
   ]
  },
  {
   "cell_type": "code",
   "execution_count": null,
   "metadata": {},
   "outputs": [],
   "source": [
    "('<'+str(eval('('+x.replace('n', '5')[1:-1]+')'))[1:-1]+'>').replace(' ', '')"
   ]
  },
  {
   "cell_type": "code",
   "execution_count": 20,
   "metadata": {},
   "outputs": [
    {
     "name": "stdout",
     "output_type": "stream",
     "text": [
      "[2, 1, 2]\n",
      "[4, 2, 2]\n",
      "[5, 3, 2]\n",
      "[6, 4, 2]\n",
      "[7, 5, 2]\n",
      "[8, 6, 2]\n",
      "[9, 7, 2]\n",
      "[10, 8, 2]\n",
      "[11, 9, 2]\n",
      "[12, 10, 2]\n",
      "[13, 11, 2]\n",
      "[14, 12, 2]\n",
      "[15, 13, 2]\n",
      "[16, 14, 2]\n",
      "[17, 15, 2]\n",
      "[18, 16, 2]\n",
      "[19, 17, 2]\n",
      "[20, 18, 2]\n",
      "[21, 19, 2]\n",
      "[22, 20, 2]\n",
      "[23, 21, 2]\n",
      "[24, 22, 2]\n",
      "[25, 23, 2]\n",
      "[26, 24, 2]\n",
      "[27, 25, 2]\n",
      "[28, 26, 2]\n",
      "[29, 27, 2]\n",
      "[30, 28, 2]\n",
      "[31, 29, 2]\n",
      "[32, 30, 2]\n",
      "[33, 31, 2]\n",
      "[34, 32, 2]\n",
      "[35, 33, 2]\n",
      "[36, 34, 2]\n",
      "[37, 35, 2]\n",
      "[38, 36, 2]\n",
      "[39, 37, 2]\n",
      "[40, 38, 2]\n",
      "[41, 39, 2]\n",
      "[42, 40, 2]\n",
      "[43, 41, 2]\n",
      "[44, 42, 2]\n",
      "[45, 43, 2]\n",
      "[46, 44, 2]\n",
      "[47, 45, 2]\n",
      "[48, 46, 2]\n",
      "[49, 47, 2]\n",
      "[50, 48, 2]\n",
      "[51, 49, 2]\n"
     ]
    }
   ],
   "source": [
    "max_q = 50\n",
    "for q in range(1, max_q):\n",
    "    for p in range(q, q * 2 + 1):\n",
    "        x = [p, q, 2]\n",
    "        result = e.get(Board(x))\n",
    "        if not result: print(x)"
   ]
  }
 ],
 "metadata": {
  "kernelspec": {
   "display_name": "my-venv",
   "language": "python",
   "name": "python3"
  },
  "language_info": {
   "codemirror_mode": {
    "name": "ipython",
    "version": 3
   },
   "file_extension": ".py",
   "mimetype": "text/x-python",
   "name": "python",
   "nbconvert_exporter": "python",
   "pygments_lexer": "ipython3",
   "version": "3.11.2"
  }
 },
 "nbformat": 4,
 "nbformat_minor": 2
}
